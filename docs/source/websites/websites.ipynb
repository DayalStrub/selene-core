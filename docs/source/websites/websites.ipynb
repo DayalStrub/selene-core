{
 "cells": [
  {
   "cell_type": "markdown",
   "id": "dbc0f1f4-1ca0-4e39-bbfb-e60b8465ee40",
   "metadata": {},
   "source": [
    "## Building website-specific functionality"
   ]
  },
  {
   "cell_type": "code",
   "execution_count": null,
   "id": "dec8be25-344f-40e2-86c6-abd5a50b4c77",
   "metadata": {},
   "outputs": [],
   "source": []
  }
 ],
 "metadata": {
  "kernelspec": {
   "display_name": "Python 3.9",
   "language": "python",
   "name": "py39"
  },
  "language_info": {
   "codemirror_mode": {
    "name": "ipython",
    "version": 3
   },
   "file_extension": ".py",
   "mimetype": "text/x-python",
   "name": "python",
   "nbconvert_exporter": "python",
   "pygments_lexer": "ipython3",
   "version": "3.9.12"
  }
 },
 "nbformat": 4,
 "nbformat_minor": 5
}
