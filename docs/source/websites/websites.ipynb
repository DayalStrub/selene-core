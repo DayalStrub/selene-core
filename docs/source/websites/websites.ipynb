{
 "cells": [
  {
   "cell_type": "markdown",
   "id": "dbc0f1f4-1ca0-4e39-bbfb-e60b8465ee40",
   "metadata": {},
   "source": [
    "## Building website-specific functionality\n",
    "The real power of selene comes from using it as a starting framework from which to develop website-specific functionality. \n",
    "\n",
    "Here, we illustrate building website specific functionality for the CMA's own website. Selene is intentially not a home for website-specific funcitonality to protect anonymity of the CMA's cases. But selene can be used to develop website-specific page classes elsewhere, as shown below:"
   ]
  },
  {
   "cell_type": "code",
   "execution_count": 3,
   "id": "0cd39088-03f6-48fb-8d61-6f6a744a7834",
   "metadata": {},
   "outputs": [],
   "source": [
    "from selenium.webdriver.common.by import By\n",
    "from selene.core.logger import get_logger\n",
    "from selene.core.selenium.driver import get_driver, stop_driver\n",
    "from selene.core.selenium.page import PageSelene\n",
    "from selene.core.selenium.conditions import *"
   ]
  },
  {
   "cell_type": "markdown",
   "id": "0354a855-e415-4b20-9127-e8ae92a4754f",
   "metadata": {},
   "source": [
    "### Defining our new Page objects\n",
    "The starting point for any scraping in selene is the page object. We define two page objects that inherit the general PageSelene class."
   ]
  },
  {
   "cell_type": "code",
   "execution_count": 1,
   "id": "39c3eafc-4379-47ec-99cf-5211243259ed",
   "metadata": {},
   "outputs": [
    {
     "ename": "NameError",
     "evalue": "name 'PageSelene' is not defined",
     "output_type": "error",
     "traceback": [
      "\u001b[0;31m---------------------------------------------------------------------------\u001b[0m",
      "\u001b[0;31mNameError\u001b[0m                                 Traceback (most recent call last)",
      "Input \u001b[0;32mIn [1]\u001b[0m, in \u001b[0;36m<cell line: 1>\u001b[0;34m()\u001b[0m\n\u001b[0;32m----> 1\u001b[0m \u001b[38;5;28;01mclass\u001b[39;00m \u001b[38;5;21;01mPageCMACaseList\u001b[39;00m(\u001b[43mPageSelene\u001b[49m):\n\u001b[1;32m      2\u001b[0m     \u001b[38;5;28;01mpass\u001b[39;00m\n",
      "\u001b[0;31mNameError\u001b[0m: name 'PageSelene' is not defined"
     ]
    }
   ],
   "source": [
    "class PageCmaCaseList(PageSelene):\n",
    "    \"\"\" a class for pages of the form https://www.gov.uk/cma-cases \"\"\"\n",
    "    def get_case_links(self, driver):\n",
    "        \"\"\" retrieve the links to any cases listed on a case list page \"\"\"\n",
    "        \n",
    "    def click_next_page(self, driver):\n",
    "        \"\"\" find the next page button and click on it"
   ]
  },
  {
   "cell_type": "code",
   "execution_count": 2,
   "id": "ecf5e79d-5185-40ea-869e-a7cbfd4692bd",
   "metadata": {
    "lines_to_next_cell": 1
   },
   "outputs": [
    {
     "ename": "NameError",
     "evalue": "name 'PageSelene' is not defined",
     "output_type": "error",
     "traceback": [
      "\u001b[0;31m---------------------------------------------------------------------------\u001b[0m",
      "\u001b[0;31mNameError\u001b[0m                                 Traceback (most recent call last)",
      "Input \u001b[0;32mIn [2]\u001b[0m, in \u001b[0;36m<cell line: 1>\u001b[0;34m()\u001b[0m\n\u001b[0;32m----> 1\u001b[0m \u001b[38;5;28;01mclass\u001b[39;00m \u001b[38;5;21;01mPageCMACase\u001b[39;00m(\u001b[43mPageSelene\u001b[49m):\n\u001b[1;32m      2\u001b[0m     \u001b[38;5;28;01mpass\u001b[39;00m\n",
      "\u001b[0;31mNameError\u001b[0m: name 'PageSelene' is not defined"
     ]
    }
   ],
   "source": [
    "class PageCmaCase(PageSelene):\n",
    "    pass"
   ]
  },
  {
   "cell_type": "markdown",
   "id": "9daeb59b-03c7-42f9-a3bf-b84208edf715",
   "metadata": {},
   "source": [
    "### Crawling the site using our new objects"
   ]
  },
  {
   "cell_type": "code",
   "execution_count": null,
   "id": "bb14af59",
   "metadata": {},
   "outputs": [],
   "source": []
  },
  {
   "cell_type": "code",
   "execution_count": null,
   "id": "a21a9911",
   "metadata": {},
   "outputs": [],
   "source": []
  },
  {
   "cell_type": "code",
   "execution_count": null,
   "id": "23c4863a",
   "metadata": {},
   "outputs": [],
   "source": [
    "class PageForm(PageSelene):\n",
    "    \n",
    "    def get_table_data(self, driver):\n",
    "        self.log(f'{self.url}: get_table_data')\n",
    "        \n",
    "        values = []\n",
    "        table = self.find(driver, By.CLASS_NAME, 'table')\n",
    "        for i, row in enumerate(table.find_all(By.TAG_NAME, 'tr')):\n",
    "            if i == 0:\n",
    "                cols = row.find_all(By.TAG_NAME, 'th')\n",
    "                cols = [col for col in cols if col.text is not None]\n",
    "                colnames = [col.text.strip().lower().replace(' ', '_') for col in cols]\n",
    "                continue\n",
    "            cols = row.find_all(By.TAG_NAME, 'td')\n",
    "            cols = [col for col in cols if col.text is not None]\n",
    "            values.append([col.text.strip().lower() for col in cols])\n",
    "        df = pd.DataFrame(columns=colnames, data=values)\n",
    "        df['source'] = self.url\n",
    "        return df"
   ]
  },
  {
   "cell_type": "code",
   "execution_count": null,
   "id": "c11d308a",
   "metadata": {},
   "outputs": [],
   "source": [
    "driver = get_driver(width=1024, height=768)\n",
    "logger = get_logger(level='DEBUG')"
   ]
  },
  {
   "cell_type": "code",
   "execution_count": null,
   "id": "f76831a6",
   "metadata": {},
   "outputs": [],
   "source": [
    "urls = [f'https://www.scrapethissite.com/pages/forms/?page_num={i}' for i in range(1, 11, 1)]\n",
    "urls"
   ]
  },
  {
   "cell_type": "code",
   "execution_count": null,
   "id": "ce90e998",
   "metadata": {},
   "outputs": [],
   "source": [
    "%%time\n",
    "df = pd.DataFrame()\n",
    "for i, url in enumerate(urls):\n",
    "    page = PageForm.from_url(driver, url, logger=logger)\n",
    "    df = df.append(page.get_table_data(driver))\n",
    "    page.screenshot_to_notebook(driver)"
   ]
  },
  {
   "cell_type": "code",
   "execution_count": null,
   "id": "7fecaa1f",
   "metadata": {},
   "outputs": [],
   "source": [
    "df"
   ]
  },
  {
   "cell_type": "code",
   "execution_count": null,
   "id": "79197638",
   "metadata": {},
   "outputs": [],
   "source": [
    "stop_driver(driver)"
   ]
  },
  {
   "cell_type": "code",
   "execution_count": null,
   "id": "3d072d57-91a6-4c7b-ae19-3ab0f229b706",
   "metadata": {
    "lines_to_next_cell": 2
   },
   "outputs": [],
   "source": []
  }
 ],
 "metadata": {
  "kernelspec": {
   "display_name": "Python 3.9",
   "language": "python",
   "name": "py39"
  },
  "language_info": {
   "codemirror_mode": {
    "name": "ipython",
    "version": 3
   },
   "file_extension": ".py",
   "mimetype": "text/x-python",
   "name": "python",
   "nbconvert_exporter": "python",
   "pygments_lexer": "ipython3",
   "version": "3.9.12"
  }
 },
 "nbformat": 4,
 "nbformat_minor": 5
}
