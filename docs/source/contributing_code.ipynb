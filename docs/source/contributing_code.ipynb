{
 "cells": [
  {
   "cell_type": "markdown",
   "id": "82872a20-aa42-48d7-a30d-2747749c916f",
   "metadata": {},
   "source": [
    "## Contributing code to selene\n",
    "\n",
    "The CMA welcomes contributions to selene. If you spot a bug, or think of a potential enhancement to selene - please describe it in an issue using the given template. If you plan on working on the fix / enhancement itself, please assign yourself to the issue and work on a pull request. Otherwise, the DaTA unit will triage the issue and assign some resource to it as appropriate. Any pull requests will need to pass CI (see tox.ini file) and be signed off by an admin.\n",
    "\n",
    "Notes on pull requests:\n",
    "* All code must be in black code style. Run ``black -l 90`` on the new files\n",
    "* Any new functions written will require unit test coverage"
   ]
  }
 ],
 "metadata": {
  "kernelspec": {
   "display_name": "Python 3.9",
   "language": "python",
   "name": "py39"
  },
  "language_info": {
   "codemirror_mode": {
    "name": "ipython",
    "version": 3
   },
   "file_extension": ".py",
   "mimetype": "text/x-python",
   "name": "python",
   "nbconvert_exporter": "python",
   "pygments_lexer": "ipython3",
   "version": "3.9.12"
  }
 },
 "nbformat": 4,
 "nbformat_minor": 5
}
